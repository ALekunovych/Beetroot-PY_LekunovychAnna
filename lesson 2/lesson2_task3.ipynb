{
 "cells": [
  {
   "cell_type": "code",
   "execution_count": 28,
   "id": "c4bc9ea9",
   "metadata": {},
   "outputs": [
    {
     "name": "stdout",
     "output_type": "stream",
     "text": [
      "#########\n",
      "#\t#\n",
      "#\t#\n",
      "#\t#\n",
      "#########\n",
      "\n",
      "#\t#\n",
      "#\t#\n",
      "#########\n",
      "#\t#\n",
      "#\t#\n"
     ]
    }
   ],
   "source": [
    "print(\"#########\", end='\\n')\n",
    "print('#\\t#', end='\\n')\n",
    "print('#\\t#', end='\\n')\n",
    "print('#\\t#', end='\\n')\n",
    "print(\"#########\", end='\\n\\n')\n",
    "print('#\\t#', end='\\n')\n",
    "print('#\\t#', end='\\n')\n",
    "print(\"#########\", end='\\n')\n",
    "print('#\\t#', end='\\n')\n",
    "print('#\\t#', end='\\n')\n"
   ]
  },
  {
   "cell_type": "code",
   "execution_count": null,
   "id": "23385202",
   "metadata": {},
   "outputs": [],
   "source": []
  }
 ],
 "metadata": {
  "kernelspec": {
   "display_name": "Python 3 (ipykernel)",
   "language": "python",
   "name": "python3"
  },
  "language_info": {
   "codemirror_mode": {
    "name": "ipython",
    "version": 3
   },
   "file_extension": ".py",
   "mimetype": "text/x-python",
   "name": "python",
   "nbconvert_exporter": "python",
   "pygments_lexer": "ipython3",
   "version": "3.9.13"
  }
 },
 "nbformat": 4,
 "nbformat_minor": 5
}
