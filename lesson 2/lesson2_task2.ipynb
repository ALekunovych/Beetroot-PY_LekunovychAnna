{
 "cells": [
  {
   "cell_type": "code",
   "execution_count": 15,
   "id": "cbc251df",
   "metadata": {},
   "outputs": [
    {
     "name": "stdout",
     "output_type": "stream",
     "text": [
      "Hello World!\n"
     ]
    }
   ],
   "source": [
    "# print \"Hello World!\"\n",
    "print(\"Hello World!\")"
   ]
  },
  {
   "cell_type": "code",
   "execution_count": 2,
   "id": "071c5bfc",
   "metadata": {},
   "outputs": [
    {
     "name": "stdout",
     "output_type": "stream",
     "text": [
      "1-2-3-4-5\n"
     ]
    }
   ],
   "source": [
    "# print 5 numbers sequence separated by dash\n",
    "print(1,2,3,4,5, sep='-')"
   ]
  },
  {
   "cell_type": "code",
   "execution_count": 7,
   "id": "0f77f41a",
   "metadata": {},
   "outputs": [
    {
     "name": "stdout",
     "output_type": "stream",
     "text": [
      "1,2,3,4,5\n"
     ]
    }
   ],
   "source": [
    "# print 5 numbers sequence separated by comma\n",
    "print(1,2,3,4,5, sep=',')"
   ]
  },
  {
   "cell_type": "code",
   "execution_count": 13,
   "id": "71e0fb0f",
   "metadata": {},
   "outputs": [
    {
     "name": "stdout",
     "output_type": "stream",
     "text": [
      "Line 1;\n",
      "\n",
      "\n",
      "Line 2;\n",
      "\n",
      "\n",
      "Line 3."
     ]
    }
   ],
   "source": [
    "# print list of 3 lines with 2x interval\n",
    "print('Line 1', end=';\\n\\n\\n')\n",
    "print('Line 2', end=';\\n\\n\\n')\n",
    "print('Line 3', end='.')"
   ]
  },
  {
   "cell_type": "code",
   "execution_count": null,
   "id": "38c8385b",
   "metadata": {},
   "outputs": [],
   "source": []
  }
 ],
 "metadata": {
  "kernelspec": {
   "display_name": "Python 3 (ipykernel)",
   "language": "python",
   "name": "python3"
  },
  "language_info": {
   "codemirror_mode": {
    "name": "ipython",
    "version": 3
   },
   "file_extension": ".py",
   "mimetype": "text/x-python",
   "name": "python",
   "nbconvert_exporter": "python",
   "pygments_lexer": "ipython3",
   "version": "3.9.13"
  }
 },
 "nbformat": 4,
 "nbformat_minor": 5
}
